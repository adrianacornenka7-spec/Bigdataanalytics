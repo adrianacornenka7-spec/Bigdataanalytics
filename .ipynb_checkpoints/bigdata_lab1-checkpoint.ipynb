{
 "cells": [
  {
   "cell_type": "code",
   "execution_count": 2,
   "id": "7f3f3a36-ad38-4fdc-bdb0-5551ec51ad80",
   "metadata": {},
   "outputs": [
    {
     "data": {
      "text/html": [
       "<div>\n",
       "<style scoped>\n",
       "    .dataframe tbody tr th:only-of-type {\n",
       "        vertical-align: middle;\n",
       "    }\n",
       "\n",
       "    .dataframe tbody tr th {\n",
       "        vertical-align: top;\n",
       "    }\n",
       "\n",
       "    .dataframe thead th {\n",
       "        text-align: right;\n",
       "    }\n",
       "</style>\n",
       "<table border=\"1\" class=\"dataframe\">\n",
       "  <thead>\n",
       "    <tr style=\"text-align: right;\">\n",
       "      <th></th>\n",
       "      <th>HeartDisease</th>\n",
       "      <th>BMI</th>\n",
       "      <th>Smoking</th>\n",
       "      <th>AlcoholDrinking</th>\n",
       "      <th>Stroke</th>\n",
       "      <th>PhysicalHealth</th>\n",
       "      <th>MentalHealth</th>\n",
       "      <th>DiffWalking</th>\n",
       "      <th>Sex</th>\n",
       "      <th>AgeCategory</th>\n",
       "      <th>Race</th>\n",
       "      <th>Diabetic</th>\n",
       "      <th>PhysicalActivity</th>\n",
       "      <th>GenHealth</th>\n",
       "      <th>SleepTime</th>\n",
       "      <th>Asthma</th>\n",
       "      <th>KidneyDisease</th>\n",
       "      <th>SkinCancer</th>\n",
       "    </tr>\n",
       "  </thead>\n",
       "  <tbody>\n",
       "    <tr>\n",
       "      <th>0</th>\n",
       "      <td>No</td>\n",
       "      <td>16.60</td>\n",
       "      <td>Yes</td>\n",
       "      <td>No</td>\n",
       "      <td>No</td>\n",
       "      <td>3.0</td>\n",
       "      <td>30.0</td>\n",
       "      <td>No</td>\n",
       "      <td>Female</td>\n",
       "      <td>55-59</td>\n",
       "      <td>White</td>\n",
       "      <td>Yes</td>\n",
       "      <td>Yes</td>\n",
       "      <td>Very good</td>\n",
       "      <td>5.0</td>\n",
       "      <td>Yes</td>\n",
       "      <td>No</td>\n",
       "      <td>Yes</td>\n",
       "    </tr>\n",
       "    <tr>\n",
       "      <th>1</th>\n",
       "      <td>No</td>\n",
       "      <td>20.34</td>\n",
       "      <td>No</td>\n",
       "      <td>No</td>\n",
       "      <td>Yes</td>\n",
       "      <td>0.0</td>\n",
       "      <td>0.0</td>\n",
       "      <td>No</td>\n",
       "      <td>Female</td>\n",
       "      <td>80 or older</td>\n",
       "      <td>White</td>\n",
       "      <td>No</td>\n",
       "      <td>Yes</td>\n",
       "      <td>Very good</td>\n",
       "      <td>7.0</td>\n",
       "      <td>No</td>\n",
       "      <td>No</td>\n",
       "      <td>No</td>\n",
       "    </tr>\n",
       "    <tr>\n",
       "      <th>2</th>\n",
       "      <td>No</td>\n",
       "      <td>26.58</td>\n",
       "      <td>Yes</td>\n",
       "      <td>No</td>\n",
       "      <td>No</td>\n",
       "      <td>20.0</td>\n",
       "      <td>30.0</td>\n",
       "      <td>No</td>\n",
       "      <td>Male</td>\n",
       "      <td>65-69</td>\n",
       "      <td>White</td>\n",
       "      <td>Yes</td>\n",
       "      <td>Yes</td>\n",
       "      <td>Fair</td>\n",
       "      <td>8.0</td>\n",
       "      <td>Yes</td>\n",
       "      <td>No</td>\n",
       "      <td>No</td>\n",
       "    </tr>\n",
       "    <tr>\n",
       "      <th>3</th>\n",
       "      <td>No</td>\n",
       "      <td>24.21</td>\n",
       "      <td>No</td>\n",
       "      <td>No</td>\n",
       "      <td>No</td>\n",
       "      <td>0.0</td>\n",
       "      <td>0.0</td>\n",
       "      <td>No</td>\n",
       "      <td>Female</td>\n",
       "      <td>75-79</td>\n",
       "      <td>White</td>\n",
       "      <td>No</td>\n",
       "      <td>No</td>\n",
       "      <td>Good</td>\n",
       "      <td>6.0</td>\n",
       "      <td>No</td>\n",
       "      <td>No</td>\n",
       "      <td>Yes</td>\n",
       "    </tr>\n",
       "    <tr>\n",
       "      <th>4</th>\n",
       "      <td>No</td>\n",
       "      <td>23.71</td>\n",
       "      <td>No</td>\n",
       "      <td>No</td>\n",
       "      <td>No</td>\n",
       "      <td>28.0</td>\n",
       "      <td>0.0</td>\n",
       "      <td>Yes</td>\n",
       "      <td>Female</td>\n",
       "      <td>40-44</td>\n",
       "      <td>White</td>\n",
       "      <td>No</td>\n",
       "      <td>Yes</td>\n",
       "      <td>Very good</td>\n",
       "      <td>8.0</td>\n",
       "      <td>No</td>\n",
       "      <td>No</td>\n",
       "      <td>No</td>\n",
       "    </tr>\n",
       "  </tbody>\n",
       "</table>\n",
       "</div>"
      ],
      "text/plain": [
       "  HeartDisease    BMI Smoking AlcoholDrinking Stroke  PhysicalHealth  \\\n",
       "0           No  16.60     Yes              No     No             3.0   \n",
       "1           No  20.34      No              No    Yes             0.0   \n",
       "2           No  26.58     Yes              No     No            20.0   \n",
       "3           No  24.21      No              No     No             0.0   \n",
       "4           No  23.71      No              No     No            28.0   \n",
       "\n",
       "   MentalHealth DiffWalking     Sex  AgeCategory   Race Diabetic  \\\n",
       "0          30.0          No  Female        55-59  White      Yes   \n",
       "1           0.0          No  Female  80 or older  White       No   \n",
       "2          30.0          No    Male        65-69  White      Yes   \n",
       "3           0.0          No  Female        75-79  White       No   \n",
       "4           0.0         Yes  Female        40-44  White       No   \n",
       "\n",
       "  PhysicalActivity  GenHealth  SleepTime Asthma KidneyDisease SkinCancer  \n",
       "0              Yes  Very good        5.0    Yes            No        Yes  \n",
       "1              Yes  Very good        7.0     No            No         No  \n",
       "2              Yes       Fair        8.0    Yes            No         No  \n",
       "3               No       Good        6.0     No            No        Yes  \n",
       "4              Yes  Very good        8.0     No            No         No  "
      ]
     },
     "execution_count": 2,
     "metadata": {},
     "output_type": "execute_result"
    }
   ],
   "source": [
    "import pandas as pd\n",
    "hc = pd.read_csv('heart_2020_cleaned.csv')\n",
    "hc.head()"
   ]
  },
  {
   "cell_type": "code",
   "execution_count": 19,
   "id": "e03dab06-ad4f-42fe-996b-aabd0b76f4b5",
   "metadata": {},
   "outputs": [
    {
     "name": "stdout",
     "output_type": "stream",
     "text": [
      "<class 'pandas.core.frame.DataFrame'>\n",
      "RangeIndex: 319795 entries, 0 to 319794\n",
      "Data columns (total 18 columns):\n",
      " #   Column            Non-Null Count   Dtype  \n",
      "---  ------            --------------   -----  \n",
      " 0   HeartDisease      319795 non-null  object \n",
      " 1   BMI               319795 non-null  float64\n",
      " 2   Smoking           319795 non-null  object \n",
      " 3   AlcoholDrinking   319795 non-null  object \n",
      " 4   Stroke            319795 non-null  object \n",
      " 5   PhysicalHealth    319795 non-null  float64\n",
      " 6   MentalHealth      319795 non-null  float64\n",
      " 7   DiffWalking       319795 non-null  object \n",
      " 8   Sex               319795 non-null  object \n",
      " 9   AgeCategory       319795 non-null  object \n",
      " 10  Race              319795 non-null  object \n",
      " 11  Diabetic          319795 non-null  object \n",
      " 12  PhysicalActivity  319795 non-null  object \n",
      " 13  GenHealth         319795 non-null  object \n",
      " 14  SleepTime         319795 non-null  float64\n",
      " 15  Asthma            319795 non-null  object \n",
      " 16  KidneyDisease     319795 non-null  object \n",
      " 17  SkinCancer        319795 non-null  object \n",
      "dtypes: float64(4), object(14)\n",
      "memory usage: 232.9 MB\n"
     ]
    }
   ],
   "source": [
    "hc.info(memory_usage='deep')"
   ]
  },
  {
   "cell_type": "code",
   "execution_count": 20,
   "id": "ffb31931-ee38-4f99-81ce-c84ee4302b06",
   "metadata": {},
   "outputs": [
    {
     "name": "stdout",
     "output_type": "stream",
     "text": [
      "Average memory usage for float columns: 1.95 MB\n",
      "Average memory usage for object columns: 14.87 MB\n"
     ]
    }
   ],
   "source": [
    "for dtype in ['float','object']:\n",
    "    selected_dtype = hc.select_dtypes(include=[dtype])\n",
    "    mean_usage_b = selected_dtype.memory_usage(deep=True).mean()\n",
    "    mean_usage_mb = mean_usage_b / 1024 ** 2\n",
    "    print(\"Average memory usage for {} columns: {:03.2f} MB\".format(dtype,mean_usage_mb))"
   ]
  },
  {
   "cell_type": "code",
   "execution_count": 112,
   "id": "a29d60a6-1c26-4b40-b354-5cc4b8483ced",
   "metadata": {},
   "outputs": [],
   "source": [
    "def mem_usage(pandas_obj):\n",
    "    if isinstance(pandas_obj, pd.DataFrame):\n",
    "        usage_b = pandas_obj.memory_usage(deep=True).sum()\n",
    "    else:  # припускаємо, що це Series\n",
    "        usage_b = pandas_obj.memory_usage(deep=True)\n",
    "    \n",
    "    usage_mb = usage_b / 1024 ** 2  # конвертуємо байти в мегабайти\n",
    "    return round(usage_mb, 2)  # повертаємо число типу float, заокруглене до 2 знаків після коми"
   ]
  },
  {
   "cell_type": "code",
   "execution_count": 114,
   "id": "d31620a5-8762-4603-af99-f3708318a03e",
   "metadata": {},
   "outputs": [
    {
     "name": "stdout",
     "output_type": "stream",
     "text": [
      "Memory size before float data type optimization: 9.76 MB\n",
      "Memory size after float data type optimization: 4.88 MB\n"
     ]
    },
    {
     "data": {
      "text/html": [
       "<div>\n",
       "<style scoped>\n",
       "    .dataframe tbody tr th:only-of-type {\n",
       "        vertical-align: middle;\n",
       "    }\n",
       "\n",
       "    .dataframe tbody tr th {\n",
       "        vertical-align: top;\n",
       "    }\n",
       "\n",
       "    .dataframe thead th {\n",
       "        text-align: right;\n",
       "    }\n",
       "</style>\n",
       "<table border=\"1\" class=\"dataframe\">\n",
       "  <thead>\n",
       "    <tr style=\"text-align: right;\">\n",
       "      <th></th>\n",
       "      <th>before</th>\n",
       "      <th>after</th>\n",
       "    </tr>\n",
       "  </thead>\n",
       "  <tbody>\n",
       "    <tr>\n",
       "      <th>float32</th>\n",
       "      <td>NaN</td>\n",
       "      <td>4.0</td>\n",
       "    </tr>\n",
       "    <tr>\n",
       "      <th>float64</th>\n",
       "      <td>4.0</td>\n",
       "      <td>NaN</td>\n",
       "    </tr>\n",
       "  </tbody>\n",
       "</table>\n",
       "</div>"
      ],
      "text/plain": [
       "         before  after\n",
       "float32     NaN    4.0\n",
       "float64     4.0    NaN"
      ]
     },
     "execution_count": 114,
     "metadata": {},
     "output_type": "execute_result"
    }
   ],
   "source": [
    "hc_float = hc.select_dtypes(include=['float'])\n",
    "converted_float = hc_float.apply(pd.to_numeric,downcast='float')\n",
    "print(f\"Memory size before float data type optimization: {mem_usage(hc_float)} MB\")\n",
    "print(f\"Memory size after float data type optimization: {mem_usage(converted_float)} MB\")\n",
    "compare_floats = pd.concat([hc_float.dtypes,converted_float.dtypes],axis=1)\n",
    "compare_floats.columns = ['before','after']\n",
    "compare_floats.apply(pd.Series.value_counts)"
   ]
  },
  {
   "cell_type": "code",
   "execution_count": 118,
   "id": "6d0db6df-1b39-4f4d-af82-8ec3eb5884f3",
   "metadata": {},
   "outputs": [
    {
     "name": "stdout",
     "output_type": "stream",
     "text": [
      "File memory size before float data type optimization: 232.85 MB\n",
      "File memory size after float data type optimization: 227.98 MB\n"
     ]
    }
   ],
   "source": [
    "optimized_hc = hc.copy()\n",
    "optimized_hc[converted_float.columns] = converted_float\n",
    "print(f\"File memory size before float data type optimization: {mem_usage(hc)} MB\")\n",
    "print(f\"File memory size after float data type optimization: {mem_usage(optimized_hc)} MB\")"
   ]
  },
  {
   "cell_type": "code",
   "execution_count": 119,
   "id": "c896fe89-f78a-4f73-b936-7dc87bc633fc",
   "metadata": {},
   "outputs": [
    {
     "data": {
      "text/html": [
       "<div>\n",
       "<style scoped>\n",
       "    .dataframe tbody tr th:only-of-type {\n",
       "        vertical-align: middle;\n",
       "    }\n",
       "\n",
       "    .dataframe tbody tr th {\n",
       "        vertical-align: top;\n",
       "    }\n",
       "\n",
       "    .dataframe thead th {\n",
       "        text-align: right;\n",
       "    }\n",
       "</style>\n",
       "<table border=\"1\" class=\"dataframe\">\n",
       "  <thead>\n",
       "    <tr style=\"text-align: right;\">\n",
       "      <th></th>\n",
       "      <th>HeartDisease</th>\n",
       "      <th>Smoking</th>\n",
       "      <th>AlcoholDrinking</th>\n",
       "      <th>Stroke</th>\n",
       "      <th>DiffWalking</th>\n",
       "      <th>Sex</th>\n",
       "      <th>AgeCategory</th>\n",
       "      <th>Race</th>\n",
       "      <th>Diabetic</th>\n",
       "      <th>PhysicalActivity</th>\n",
       "      <th>GenHealth</th>\n",
       "      <th>Asthma</th>\n",
       "      <th>KidneyDisease</th>\n",
       "      <th>SkinCancer</th>\n",
       "    </tr>\n",
       "  </thead>\n",
       "  <tbody>\n",
       "    <tr>\n",
       "      <th>count</th>\n",
       "      <td>319795</td>\n",
       "      <td>319795</td>\n",
       "      <td>319795</td>\n",
       "      <td>319795</td>\n",
       "      <td>319795</td>\n",
       "      <td>319795</td>\n",
       "      <td>319795</td>\n",
       "      <td>319795</td>\n",
       "      <td>319795</td>\n",
       "      <td>319795</td>\n",
       "      <td>319795</td>\n",
       "      <td>319795</td>\n",
       "      <td>319795</td>\n",
       "      <td>319795</td>\n",
       "    </tr>\n",
       "    <tr>\n",
       "      <th>unique</th>\n",
       "      <td>2</td>\n",
       "      <td>2</td>\n",
       "      <td>2</td>\n",
       "      <td>2</td>\n",
       "      <td>2</td>\n",
       "      <td>2</td>\n",
       "      <td>13</td>\n",
       "      <td>6</td>\n",
       "      <td>4</td>\n",
       "      <td>2</td>\n",
       "      <td>5</td>\n",
       "      <td>2</td>\n",
       "      <td>2</td>\n",
       "      <td>2</td>\n",
       "    </tr>\n",
       "    <tr>\n",
       "      <th>top</th>\n",
       "      <td>No</td>\n",
       "      <td>No</td>\n",
       "      <td>No</td>\n",
       "      <td>No</td>\n",
       "      <td>No</td>\n",
       "      <td>Female</td>\n",
       "      <td>65-69</td>\n",
       "      <td>White</td>\n",
       "      <td>No</td>\n",
       "      <td>Yes</td>\n",
       "      <td>Very good</td>\n",
       "      <td>No</td>\n",
       "      <td>No</td>\n",
       "      <td>No</td>\n",
       "    </tr>\n",
       "    <tr>\n",
       "      <th>freq</th>\n",
       "      <td>292422</td>\n",
       "      <td>187887</td>\n",
       "      <td>298018</td>\n",
       "      <td>307726</td>\n",
       "      <td>275385</td>\n",
       "      <td>167805</td>\n",
       "      <td>34151</td>\n",
       "      <td>245212</td>\n",
       "      <td>269653</td>\n",
       "      <td>247957</td>\n",
       "      <td>113858</td>\n",
       "      <td>276923</td>\n",
       "      <td>308016</td>\n",
       "      <td>289976</td>\n",
       "    </tr>\n",
       "  </tbody>\n",
       "</table>\n",
       "</div>"
      ],
      "text/plain": [
       "       HeartDisease Smoking AlcoholDrinking  Stroke DiffWalking     Sex  \\\n",
       "count        319795  319795          319795  319795      319795  319795   \n",
       "unique            2       2               2       2           2       2   \n",
       "top              No      No              No      No          No  Female   \n",
       "freq         292422  187887          298018  307726      275385  167805   \n",
       "\n",
       "       AgeCategory    Race Diabetic PhysicalActivity  GenHealth  Asthma  \\\n",
       "count       319795  319795   319795           319795     319795  319795   \n",
       "unique          13       6        4                2          5       2   \n",
       "top          65-69   White       No              Yes  Very good      No   \n",
       "freq         34151  245212   269653           247957     113858  276923   \n",
       "\n",
       "       KidneyDisease SkinCancer  \n",
       "count         319795     319795  \n",
       "unique             2          2  \n",
       "top               No         No  \n",
       "freq          308016     289976  "
      ]
     },
     "execution_count": 119,
     "metadata": {},
     "output_type": "execute_result"
    }
   ],
   "source": [
    "hc_obj=hc.select_dtypes(include=['object']).copy()\n",
    "hc_obj.describe()"
   ]
  },
  {
   "cell_type": "code",
   "execution_count": 141,
   "id": "c666d702-f1ad-485e-85f5-c1b6b52787ff",
   "metadata": {},
   "outputs": [
    {
     "name": "stdout",
     "output_type": "stream",
     "text": [
      "Before Sex: 16.48 MB\n",
      "After Sex: 0.31 MB\n"
     ]
    }
   ],
   "source": [
    "sex = hc_obj['Sex']\n",
    "sex_cat=sex.astype('category')\n",
    "print(f\"Before Sex: {mem_usage(sex)} MB\")\n",
    "print(f\"After Sex: {mem_usage(sex_cat)} MB\")"
   ]
  },
  {
   "cell_type": "code",
   "execution_count": 123,
   "id": "b6e7521f-8d4d-4c21-99e2-f1111107f52b",
   "metadata": {},
   "outputs": [
    {
     "name": "stdout",
     "output_type": "stream",
     "text": [
      "Before GenHealth: 17.03 MB\n",
      "After GenHealth: 0.31 MB\n"
     ]
    }
   ],
   "source": [
    "genhealth = hc_obj['GenHealth']\n",
    "genhealth_cat=genhealth.astype('category')\n",
    "new_order = ['Poor', 'Fair', 'Good', 'Very good', 'Excellent']\n",
    "genhealth_cat = genhealth_cat.cat.reorder_categories(new_order, ordered=True)\n",
    "print(f\"Before GenHealth: {mem_usage(genhealth)} MB\")\n",
    "print(f\"After GenHealth: {mem_usage(genhealth_cat)} MB\")"
   ]
  },
  {
   "cell_type": "code",
   "execution_count": 124,
   "id": "d64acc1a-f671-436c-a4eb-543f1f25cf6f",
   "metadata": {},
   "outputs": [
    {
     "name": "stdout",
     "output_type": "stream",
     "text": [
      "Before Diabetic: 15.78 MB\n",
      "After Diabetic: 0.31 MB\n"
     ]
    }
   ],
   "source": [
    "diabetic = hc_obj['Diabetic']\n",
    "diabetic_cat=diabetic.astype('category')\n",
    "print(f\"Before Diabetic: {mem_usage(diabetic)} MB\")\n",
    "print(f\"After Diabetic: {mem_usage(diabetic_cat)} MB\")\n"
   ]
  },
  {
   "cell_type": "code",
   "execution_count": 128,
   "id": "64275144-a7e4-4c02-8390-f7572798c001",
   "metadata": {},
   "outputs": [
    {
     "name": "stdout",
     "output_type": "stream",
     "text": [
      "Before Race: 16.67 MB\n",
      "After Race: 0.31 MB\n",
      "Before Race: 16.61 MB\n",
      "After Race: 0.31 MB\n"
     ]
    }
   ],
   "source": [
    "race = hc_obj['Race']\n",
    "race_cat=race.astype('category')\n",
    "new_orde = ['Hispanic','White','Black','American Indian/Alaskan Native', 'Asian','Other' ]\n",
    "race_cat=race_cat.cat.reorder_categories(new_orde, ordered=True)\n",
    "print(f\"Before Race: {mem_usage(race)} MB\")\n",
    "print(f\"After Race: {mem_usage(race_cat)} MB\")\n",
    "\n",
    "age_category = hc_obj['AgeCategory']\n",
    "age_category_cat=race.astype('category')\n",
    "print(f\"Before Race: {mem_usage(age_category)} MB\")\n",
    "print(f\"After Race: {mem_usage(age_category_cat)} MB\")\n"
   ]
  },
  {
   "cell_type": "code",
   "execution_count": 132,
   "id": "fca777da-26a9-420d-b90b-7f282fc4b027",
   "metadata": {},
   "outputs": [
    {
     "name": "stdout",
     "output_type": "stream",
     "text": [
      "Before HeartDisease: 15.58 MB\n",
      "After HeartDisease: 0.31 MB\n",
      "\n",
      "Before Smoking: 15.68 MB\n",
      "After Smoking: 0.31 MB\n",
      "\n",
      "Before AlcoholDrinking: 15.57 MB\n",
      "After AlcoholDrinking: 0.31 MB\n",
      "\n",
      "Before Stroke: 15.57 MB\n",
      "After Stroke: 0.31 MB\n",
      "\n",
      "Before DiffWalking: 15.6 MB\n",
      "After DiffWalking: 0.31 MB\n",
      "\n",
      "Before PhysicalActivity: 15.79 MB\n",
      "After PhysicalActivity: 0.31 MB\n",
      "\n",
      "Before Asthma: 15.6 MB\n",
      "After Asthma: 0.31 MB\n",
      "\n",
      "Before KidneyDisease: 15.57 MB\n",
      "After KidneyDisease: 0.31 MB\n",
      "\n",
      "Before SkinCancer: 15.58 MB\n",
      "After SkinCancer: 0.31 MB\n",
      "\n",
      "1.55\n",
      "TOTAL before: 140.53 MB\n",
      "TOTAL after : 2.75 MB\n"
     ]
    }
   ],
   "source": [
    "total_before = 0\n",
    "total_after = 0\n",
    "for change_size in ['HeartDisease','Smoking', 'AlcoholDrinking','Stroke','DiffWalking','PhysicalActivity','Asthma','KidneyDisease','SkinCancer']:\n",
    "    resizing= hc_obj[change_size]\n",
    "    before_b =resizing.memory_usage(deep=True)\n",
    "    after_b = resizing.astype('category').memory_usage(deep=True)\n",
    "\n",
    "    # додаємо до сум\n",
    "    total_before += before_b / 1024**2\n",
    "    total_after  += after_b / 1024**2\n",
    "    resizing_cat=resizing.astype('category')\n",
    "    print(f\"Before {change_size}: {mem_usage(resizing)} MB\")\n",
    "    print(f\"After {change_size}: {mem_usage(resizing_cat)} MB\\n\")\n",
    "n= (sex_cat,genhealth_cat,race_cat,diabetic_cat, age_category_cat)\n",
    "total_memory=0.0\n",
    "for i in n :\n",
    "    mem_str = mem_usage(i)\n",
    "    total_memory += mem_val\n",
    "print(total_memory)\n",
    "print(f\"TOTAL before: {total_before:.2f} MB\")\n",
    "print(f\"TOTAL after : {total_after:.2f} MB\")\n"
   ]
  },
  {
   "cell_type": "code",
   "execution_count": 135,
   "id": "da7fd06c-381f-4050-9af5-61a85b7c1748",
   "metadata": {},
   "outputs": [
    {
     "name": "stdout",
     "output_type": "stream",
     "text": [
      "Memory size before object: 223.1 MB\n",
      "Memory size before object: 4.30 MB\n"
     ]
    }
   ],
   "source": [
    "hc_object = hc.select_dtypes(include=['object'])\n",
    "print(f\"Memory size before object: {mem_usage(hc_object)} MB\")\n",
    "k=total_memory + total_after\n",
    "print(\"Memory size before object:\",f\"{k:.2f} MB\")\n",
    "\n",
    "    "
   ]
  },
  {
   "cell_type": "code",
   "execution_count": 140,
   "id": "b3aaec46-9cf1-4a62-bc42-dabc1fc06225",
   "metadata": {},
   "outputs": [
    {
     "data": {
      "image/png": "[encoded data removed]",
      "text/plain": [
       "<Figure size 640x480 with 1 Axes>"
      ]
     },
     "metadata": {},
     "output_type": "display_data"
    }
   ],
   "source": [
    "import matplotlib.pyplot as plt\n",
    "import numpy as np\n",
    "\n",
    "species = (\"object\", \"float\")\n",
    "penguin_means = {\n",
    "    'Before': ( mem_usage(hc_float), mem_usage(hc_object)),\n",
    "    'After': (mem_usage(converted_float), k)\n",
    "}\n",
    "\n",
    "x = np.arange(len(species))  # the label locations\n",
    "width = 0.25  # the width of the bars\n",
    "multiplier = 0\n",
    "\n",
    "fig, ax = plt.subplots(layout='constrained')\n",
    "\n",
    "for attribute, measurement in penguin_means.items():\n",
    "    offset = width * multiplier\n",
    "    rects = ax.bar(x + offset, measurement, width, label=attribute)\n",
    "    ax.bar_label(rects, padding=3)\n",
    "    multiplier += 1\n",
    "\n",
    "# Add some text for labels, title and custom x-axis tick labels, etc.\n",
    "ax.set_ylabel('MB')\n",
    "ax.set_title('Memory optimization')\n",
    "ax.set_xticks(x + width, species)\n",
    "ax.legend(loc='upper left', ncols=3)\n",
    "ax.set_ylim(0, 250)\n",
    "\n",
    "plt.show()"
   ]
  },
  {
   "cell_type": "code",
   "execution_count": null,
   "id": "68665575-ead7-4108-ab1e-24c8ad2f6c09",
   "metadata": {},
   "outputs": [],
   "source": []
  },
  {
   "cell_type": "code",
   "execution_count": null,
   "id": "60511961-06b8-430f-b40c-c60ae3cb1133",
   "metadata": {},
   "outputs": [],
   "source": []
  }
 ],
 "metadata": {
  "kernelspec": {
   "display_name": "Python 3 (ipykernel)",
   "language": "python",
   "name": "python3"
  },
  "language_info": {
   "codemirror_mode": {
    "name": "ipython",
    "version": 3
   },
   "file_extension": ".py",
   "mimetype": "text/x-python",
   "name": "python",
   "nbconvert_exporter": "python",
   "pygments_lexer": "ipython3",
   "version": "3.13.7"
  }
 },
 "nbformat": 4,
 "nbformat_minor": 5
}
