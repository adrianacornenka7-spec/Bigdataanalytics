{
 "cells": [
  {
   "cell_type": "code",
   "execution_count": 9,
   "id": "bbd58ccc-575e-40c5-b4d7-95f3b8e0a4cd",
   "metadata": {},
   "outputs": [
    {
     "name": "stdout",
     "output_type": "stream",
     "text": [
      "Компютер має 4 ядера\n"
     ]
    }
   ],
   "source": [
    "import os\n",
    "print(f\"Компютер має {os.cpu_count()} ядера\")"
   ]
  },
  {
   "cell_type": "code",
   "execution_count": 8,
   "id": "b1aa3189-a2e7-49c1-b550-f984a2a7e46d",
   "metadata": {},
   "outputs": [
    {
     "name": "stdout",
     "output_type": "stream",
     "text": [
      "k = 1\n",
      "z = 1\n"
     ]
    }
   ],
   "source": [
    "i = 0  \n",
    "j = 1    \n",
    "add = lambda x, y: x + y  \n",
    "  \n",
    "k = i + j  \n",
    "print (f\"k = {k}\")  \n",
    "  \n",
    "z = add (i, j)  \n",
    "print (f\"z = {z}\")"
   ]
  },
  {
   "cell_type": "code",
   "execution_count": 10,
   "id": "d5dc72ed-49d9-40c0-89e2-2cebb313c50d",
   "metadata": {},
   "outputs": [
    {
     "name": "stdout",
     "output_type": "stream",
     "text": [
      "ii = 1, jj = 2\n"
     ]
    }
   ],
   "source": [
    "i = 0  \n",
    "j = 1    \n",
    "add = lambda x: lambda y: x + y  \n",
    "inc = add(1)  \n",
    "  \n",
    "ii = inc (i)  \n",
    "jj = inc (j)  \n",
    "print (f\"ii = {ii}, jj = {jj}\")"
   ]
  },
  {
   "cell_type": "code",
   "execution_count": 11,
   "id": "c9423187-180e-4a4e-86ac-777bc3e2b5a9",
   "metadata": {},
   "outputs": [],
   "source": [
    "def f_5(a, b, c, d, e):\n",
    "    return a + b + c + d + e\n",
    "\n",
    "def c_5(a):\n",
    "    def c_4(b):\n",
    "        def c_3(c):\n",
    "            def c_2(d):\n",
    "                def c_1(e):\n",
    "                    return f_5(a, b, c, d, e)\n",
    "                return c_1\n",
    "            return c_2\n",
    "        return c_3\n",
    "    return c_4"
   ]
  },
  {
   "cell_type": "code",
   "execution_count": 12,
   "id": "530ddca3-da4b-41a3-92b1-863635466eb6",
   "metadata": {},
   "outputs": [
    {
     "data": {
      "text/plain": [
       "15"
      ]
     },
     "execution_count": 12,
     "metadata": {},
     "output_type": "execute_result"
    }
   ],
   "source": [
    "f_5(1,2,3,4,5)"
   ]
  },
  {
   "cell_type": "code",
   "execution_count": 15,
   "id": "572f1c84-406f-4995-8fb7-2d495f273403",
   "metadata": {},
   "outputs": [
    {
     "name": "stdout",
     "output_type": "stream",
     "text": [
      "15\n"
     ]
    }
   ],
   "source": [
    "c_5 = lambda a: lambda b: lambda c: lambda d: lambda e: a + b + c + d + e\n",
    "print(c_5(1)(2)(3)(4)(5))"
   ]
  },
  {
   "cell_type": "code",
   "execution_count": null,
   "id": "79cb79ae-780e-457c-b087-93a92c825cb1",
   "metadata": {},
   "outputs": [],
   "source": []
  }
 ],
 "metadata": {
  "kernelspec": {
   "display_name": "Python 3 (ipykernel)",
   "language": "python",
   "name": "python3"
  },
  "language_info": {
   "codemirror_mode": {
    "name": "ipython",
    "version": 3
   },
   "file_extension": ".py",
   "mimetype": "text/x-python",
   "name": "python",
   "nbconvert_exporter": "python",
   "pygments_lexer": "ipython3",
   "version": "3.13.7"
  }
 },
 "nbformat": 4,
 "nbformat_minor": 5
}
