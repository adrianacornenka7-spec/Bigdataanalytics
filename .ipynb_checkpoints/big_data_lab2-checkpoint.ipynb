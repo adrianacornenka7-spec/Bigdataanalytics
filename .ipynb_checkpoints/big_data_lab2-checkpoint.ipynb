{
 "cells": [
  {
   "cell_type": "code",
   "execution_count": 99,
   "id": "e825e00f-46dd-4bdf-9663-80fdeae4db38",
   "metadata": {},
   "outputs": [
    {
     "name": "stdout",
     "output_type": "stream",
     "text": [
      "<class 'pandas.core.frame.DataFrame'>\n",
      "RangeIndex: 319795 entries, 0 to 319794\n",
      "Data columns (total 18 columns):\n",
      " #   Column            Non-Null Count   Dtype  \n",
      "---  ------            --------------   -----  \n",
      " 0   HeartDisease      319795 non-null  object \n",
      " 1   BMI               319795 non-null  float64\n",
      " 2   Smoking           319795 non-null  object \n",
      " 3   AlcoholDrinking   319795 non-null  object \n",
      " 4   Stroke            319795 non-null  object \n",
      " 5   PhysicalHealth    319795 non-null  float64\n",
      " 6   MentalHealth      319795 non-null  float64\n",
      " 7   DiffWalking       319795 non-null  object \n",
      " 8   Sex               319795 non-null  object \n",
      " 9   AgeCategory       319795 non-null  object \n",
      " 10  Race              319795 non-null  object \n",
      " 11  Diabetic          319795 non-null  object \n",
      " 12  PhysicalActivity  319795 non-null  object \n",
      " 13  GenHealth         319795 non-null  object \n",
      " 14  SleepTime         319795 non-null  float64\n",
      " 15  Asthma            319795 non-null  object \n",
      " 16  KidneyDisease     319795 non-null  object \n",
      " 17  SkinCancer        319795 non-null  object \n",
      "dtypes: float64(4), object(14)\n",
      "memory usage: 43.9+ MB\n"
     ]
    }
   ],
   "source": [
    "import pandas as pd\n",
    "import numpy as np\n",
    "import math\n",
    "hc = pd.read_csv(\"data/heart_2020_cleaned.csv\")\n",
    "hc.info()"
   ]
  },
  {
   "cell_type": "code",
   "execution_count": 100,
   "id": "cfd5ec48-dcce-42c9-a687-b67603599156",
   "metadata": {},
   "outputs": [],
   "source": [
    "def calculate_pearson_py(x, y):\n",
    "#обчислює стандартний коефіцієнт кореляції Пірсона за формулою\n",
    "    n = len(x)\n",
    "    if n != len(y) or n < 2: return np.nan\n",
    "        \n",
    "    sx, sy, sxy, sx2, sy2 = 0.0, 0.0, 0.0, 0.0, 0.0\n",
    "\n",
    "    # обчислення необхідних сум у циклі\n",
    "    for i in range(n):\n",
    "        x_val, y_val = x[i], y[i]\n",
    "        sx += x_val\n",
    "        sy += y_val\n",
    "        sxy += x_val * y_val\n",
    "        sx2 += x_val * x_val\n",
    "        sy2 += y_val * y_val\n",
    "            \n",
    "    # формула Пірсона\n",
    "    numerator = n * sxy - sx * sy\n",
    "    denominator = math.sqrt((n * sx2 - sx * sx) * (n * sy2 - sy * sy))\n",
    "   \n",
    "    if denominator == 0.0:\n",
    "        return np.nan\n",
    "        \n",
    "    return numerator / denominator\n",
    "\n",
    "def calculate_partial_correlation_py(x, y, z):\n",
    "#обчислює часткову кореляцію r_xy.z (виміряємо ступінь зв'язку між величинами x та у, коли вплив z усунено)\n",
    "    \n",
    "    # обчислення трьох парних кореляцій\n",
    "    r_xy = calculate_pearson_py(x, y)\n",
    "    r_xz = calculate_pearson_py(x, z)\n",
    "    r_yz = calculate_pearson_py(y, z)\n",
    "    \n",
    "    if np.isnan(r_xy) or np.isnan(r_xz) or np.isnan(r_yz):\n",
    "        return np.nan\n",
    "        \n",
    "    # обчислення часткової кореляції\n",
    "    numerator = r_xy - (r_xz * r_yz)\n",
    "    den_x = 1.0 - (r_xz * r_xz)\n",
    "    den_y = 1.0 - (r_yz * r_yz)\n",
    "    denominator = np.sqrt(den_x * den_y)\n",
    "    \n",
    "    if denominator == 0.0:\n",
    "        return np.nan\n",
    "\n",
    "    return numerator / denominator"
   ]
  },
  {
   "cell_type": "code",
   "execution_count": 101,
   "id": "6ee330b6-2a91-4a83-90a6-061ffeca0178",
   "metadata": {},
   "outputs": [
    {
     "name": "stdout",
     "output_type": "stream",
     "text": [
      "--- PYTHON ---\n",
      "625 ms ± 21.2 ms per loop (mean ± std. dev. of 7 runs, 1 loop each)\n",
      "\n",
      "Результат: -0.116790\n"
     ]
    }
   ],
   "source": [
    "# дані\n",
    "x_arr = hc[\"SleepTime\"].values.astype(np.float64)\n",
    "y_arr = hc[\"MentalHealth\"].values.astype(np.float64)\n",
    "z_arr = hc[\"BMI\"].values.astype(np.float64)\n",
    "\n",
    "# застосування та вимірювання часу виконання\n",
    "print(\"--- PYTHON ---\")\n",
    "%timeit calculate_partial_correlation_py(x_arr, y_arr, z_arr)\n",
    "\n",
    "# фінальний результат\n",
    "result = calculate_partial_correlation_py(x_arr, y_arr, z_arr)\n",
    "print(f\"\\nРезультат: {result:.6f}\")"
   ]
  },
  {
   "cell_type": "code",
   "execution_count": 102,
   "id": "b8b3c0fd-0707-4ccd-b16a-135da6206bb8",
   "metadata": {},
   "outputs": [
    {
     "name": "stdout",
     "output_type": "stream",
     "text": [
      "The Cython extension is already loaded. To reload it, use:\n",
      "  %reload_ext Cython\n"
     ]
    }
   ],
   "source": [
    "%load_ext Cython"
   ]
  },
  {
   "cell_type": "code",
   "execution_count": 103,
   "id": "7dc2a16f-85e7-4f49-bfa2-015e75f29abc",
   "metadata": {},
   "outputs": [],
   "source": [
    "%%cython\n",
    "from libc.math cimport sqrt \n",
    "import cython\n",
    "import numpy as np \n",
    "\n",
    "@cython.boundscheck(False)\n",
    "@cython.wraparound(False)\n",
    "@cython.cdivision(True)\n",
    "\n",
    "cdef double pearson_c(double[:] x, double[:] y) except? -2.0:\n",
    "#обчислює стандартний коефіцієнт кореляції Пірсона за формулою\n",
    "\n",
    "    cdef Py_ssize_t n = x.shape[0]\n",
    "    cdef Py_ssize_t i\n",
    "    cdef double sx = 0.0, sy = 0.0, sxy = 0.0\n",
    "    cdef double sx2 = 0.0, sy2 = 0.0\n",
    "    cdef double numerator, denominator\n",
    "    \n",
    "    cdef double x_val, y_val \n",
    "    \n",
    "    if n != y.shape[0] or n < 2:\n",
    "        return -2.0\n",
    "\n",
    "    #обчислення необхідних сум\n",
    "    for i in range(n):  \n",
    "        x_val = x[i]\n",
    "        y_val = y[i]\n",
    "        sx += x_val\n",
    "        sy += y_val\n",
    "        sxy += x_val * y_val\n",
    "        sx2 += x_val * x_val\n",
    "        sy2 += y_val * y_val\n",
    "        \n",
    "    #формула Пірсона\n",
    "    numerator = n * sxy - sx * sy\n",
    "    denominator = sqrt((n * sx2 - sx * sx) * (n * sy2 - sy * sy))\n",
    "    \n",
    "    if denominator == 0.0:\n",
    "        return -2.0\n",
    "        \n",
    "    return numerator / denominator\n",
    "\n",
    "cpdef double calculate_partial_correlation_cython(double[:] x, double[:] y, double[:] z):\n",
    "#обчислює часткову кореляцію r_xy.z (виміряємо ступінь зв'язку між величинами x та у, коли вплив z усунено)\n",
    "    \n",
    "    cdef double r_xy, r_xz, r_yz\n",
    "    cdef double numerator, denominator\n",
    "    cdef double den_x, den_y\n",
    "    \n",
    "    # обчислення трьох попарних кореляцій\n",
    "    r_xy = pearson_c(x, y)\n",
    "    r_xz = pearson_c(x, z)\n",
    "    r_yz = pearson_c(y, z)\n",
    "\n",
    "    if r_xy == -2.0 or r_xz == -2.0 or r_yz == -2.0:\n",
    "        return -2.0\n",
    "        \n",
    "    # обчислення часткової кореляції\n",
    "    numerator = r_xy - (r_xz * r_yz)\n",
    "    den_x = 1.0 - (r_xz * r_xz)\n",
    "    den_y = 1.0 - (r_yz * r_yz)\n",
    "    denominator = sqrt(den_x * den_y)\n",
    "    \n",
    "    if denominator == 0.0:\n",
    "        return -2.0\n",
    "\n",
    "    return numerator / denominator"
   ]
  },
  {
   "cell_type": "code",
   "execution_count": 104,
   "id": "83f98ae2-b560-4b68-b4c4-c060a1454eed",
   "metadata": {},
   "outputs": [
    {
     "name": "stdout",
     "output_type": "stream",
     "text": [
      "--- Cython ---\n",
      "1.5 ms ± 68.1 μs per loop (mean ± std. dev. of 7 runs, 1,000 loops each)\n",
      "\n",
      "Результат: -0.116790\n"
     ]
    }
   ],
   "source": [
    "# дані\n",
    "x_arr = hc[\"SleepTime\"].values.astype(np.float64)\n",
    "y_arr = hc[\"MentalHealth\"].values.astype(np.float64)\n",
    "z_arr = hc[\"BMI\"].values.astype(np.float64)\n",
    "\n",
    "# застосування та вимірювання часу виконання\n",
    "print(\"--- Cython ---\")\n",
    "%timeit calculate_partial_correlation_cython(x_arr, y_arr, z_arr)\n",
    "\n",
    "# Результат\n",
    "result = calculate_partial_correlation_cython(x_arr, y_arr, z_arr)\n",
    "print(f\"\\nРезультат: {result:.6f}\")"
   ]
  },
  {
   "cell_type": "code",
   "execution_count": 105,
   "id": "bdbc1d0d-2b52-4ada-aa6c-c29e6423e895",
   "metadata": {},
   "outputs": [],
   "source": [
    "import numpy as np\n",
    "from numba import njit \n",
    "import math \n",
    "\n",
    "\n",
    "@njit \n",
    "def calculate_pearson_numba(x, y):\n",
    "#обчислює стандартний коефіцієнт кореляції Пірсона за формулою\n",
    "    n = len(x) \n",
    "    if n != len(y) or n < 2:\n",
    "        return 2.0 \n",
    "        \n",
    "    sx, sy, sxy, sx2, sy2 = 0.0, 0.0, 0.0, 0.0, 0.0\n",
    "\n",
    "   #обчислення необхідних сум\n",
    "    for i in range(n):\n",
    "        x_val, y_val = x[i], y[i]\n",
    "        sx += x_val\n",
    "        sy += y_val\n",
    "        sxy += x_val * y_val\n",
    "        sx2 += x_val * x_val\n",
    "        sy2 += y_val * y_val\n",
    "        \n",
    "    #формула Пірсона        \n",
    "    numerator = n * sxy - sx * sy\n",
    "    denominator = math.sqrt((n * sx2 - sx * sx) * (n * sy2 - sy * sy)) \n",
    "    \n",
    "    if denominator == 0.0: return 2.0  \n",
    "    \n",
    "    return numerator / denominator\n",
    "\n",
    "@njit \n",
    "def calculate_partial_correlation_numba(x, y, z):\n",
    "#обчислює часткову кореляцію r_xy.z (виміряємо ступінь зв'язку між величинами x та у, коли вплив z усунено)\n",
    "   \n",
    "    #обчислення трьох попарних кореляцій \n",
    "    r_xy = calculate_pearson_numba(x, y)\n",
    "    r_xz = calculate_pearson_numba(x, z)\n",
    "    r_yz = calculate_pearson_numba(y, z) # Коректна логіка y, z\n",
    "    \n",
    "    if r_xy == 2.0 or r_xz == 2.0 or r_yz == 2.0: return np.nan\n",
    "        \n",
    "    #обчислення часткової кореляції\n",
    "    numerator = r_xy - (r_xz * r_yz)\n",
    "    den_x = 1.0 - (r_xz * r_xz)\n",
    "    den_y = 1.0 - (r_yz * r_yz)\n",
    "    \n",
    "    denominator = np.sqrt(den_x * den_y) \n",
    "    \n",
    "    if denominator == 0.0: return np.nan\n",
    "\n",
    "    return numerator / denominator"
   ]
  },
  {
   "cell_type": "code",
   "execution_count": 106,
   "id": "c8881d70-0223-4899-b070-4879e5e9555e",
   "metadata": {},
   "outputs": [
    {
     "name": "stdout",
     "output_type": "stream",
     "text": [
      "--- Numba ---\n",
      "1.39 ms ± 124 μs per loop (mean ± std. dev. of 7 runs, 1 loop each)\n",
      "\n",
      "Результат: -0.116790\n"
     ]
    }
   ],
   "source": [
    "# дані\n",
    "x_arr = hc[\"SleepTime\"].values.astype(np.float64)\n",
    "y_arr = hc[\"MentalHealth\"].values.astype(np.float64)\n",
    "z_arr = hc[\"BMI\"].values.astype(np.float64)\n",
    "\n",
    "# застосування та вимірювання часу виконання\n",
    "print(\"--- Numba ---\")\n",
    "%timeit calculate_partial_correlation_numba(x_arr, y_arr, z_arr)\n",
    "\n",
    "# Результат\n",
    "result = calculate_partial_correlation_numba(x_arr, y_arr, z_arr)\n",
    "print(f\"\\nРезультат: {result:.6f}\")\n"
   ]
  },
  {
   "cell_type": "code",
   "execution_count": 107,
   "id": "81ad6471-4ae1-4443-8123-b6a28e72e0bb",
   "metadata": {},
   "outputs": [
    {
     "name": "stdout",
     "output_type": "stream",
     "text": [
      "\u001b[1m\n",
      "------- ПОРІВНЯННЯ -------\u001b[0m\n",
      "Метод  Часткова кореляція Час (с) \n",
      "Python      -0.11679      0.632964\n",
      "Cython      -0.11679      0.001341\n",
      " Numba      -0.11679      0.001289\n",
      "\u001b[1m\n",
      "Найшвидший метод:\u001b[0m Numba\n"
     ]
    }
   ],
   "source": [
    "def measure(func, *args):\n",
    "    start = time.time()\n",
    "    res = func(*args)\n",
    "    return res, time.time()-start\n",
    "\n",
    "x = hc[\"SleepTime\"].values.astype(np.float64)\n",
    "y = hc[\"MentalHealth\"].values.astype(np.float64)\n",
    "z = hc[\"BMI\"].values.astype(np.float64)\n",
    "\n",
    "results = [\n",
    "    [\"Python\", *measure(calculate_partial_correlation_py, x, y, z)],\n",
    "    [\"Cython\", *measure(calculate_partial_correlation_cython, x, y, z)],\n",
    "    [\"Numba\", *measure(calculate_partial_correlation_numba, x, y, z)]\n",
    "]\n",
    "\n",
    "# таблиця\n",
    "df = pd.DataFrame(results, columns=[\"Метод\",\"Часткова кореляція\",\"Час (с)\"])\n",
    "df[\"Часткова кореляція\"] = df[\"Часткова кореляція\"].map(\"{:.5f}\".format)\n",
    "df[\"Час (с)\"] = df[\"Час (с)\"].map(\"{:.6f}\".format)\n",
    "\n",
    "print(\"\\033[1m\\n------- ПОРІВНЯННЯ -------\\033[0m\")\n",
    "print(df.to_string(index=False, justify='center'))\n",
    "# ---- Висновок ----\n",
    "fastest = df.loc[df[\"Час (с)\"].astype(float).idxmin(),\"Метод\"]\n",
    "print(f\"\\033[1m\\nНайшвидший метод:\\033[0m {fastest}\")"
   ]
  }
 ],
 "metadata": {
  "kernelspec": {
   "display_name": "Python 3 (ipykernel)",
   "language": "python",
   "name": "python3"
  },
  "language_info": {
   "codemirror_mode": {
    "name": "ipython",
    "version": 3
   },
   "file_extension": ".py",
   "mimetype": "text/x-python",
   "name": "python",
   "nbconvert_exporter": "python",
   "pygments_lexer": "ipython3",
   "version": "3.13.7"
  }
 },
 "nbformat": 4,
 "nbformat_minor": 5
}
