{
 "cells": [
  {
   "cell_type": "code",
   "execution_count": 1,
   "id": "e6117e35-c72e-4e2a-b483-c8fd80677c89",
   "metadata": {},
   "outputs": [],
   "source": [
    "%load_ext Cython"
   ]
  },
  {
   "cell_type": "code",
   "execution_count": 2,
   "id": "e825e00f-46dd-4bdf-9663-80fdeae4db38",
   "metadata": {},
   "outputs": [
    {
     "name": "stdout",
     "output_type": "stream",
     "text": [
      "<class 'pandas.core.frame.DataFrame'>\n",
      "RangeIndex: 319795 entries, 0 to 319794\n",
      "Data columns (total 18 columns):\n",
      " #   Column            Non-Null Count   Dtype  \n",
      "---  ------            --------------   -----  \n",
      " 0   HeartDisease      319795 non-null  object \n",
      " 1   BMI               319795 non-null  float64\n",
      " 2   Smoking           319795 non-null  object \n",
      " 3   AlcoholDrinking   319795 non-null  object \n",
      " 4   Stroke            319795 non-null  object \n",
      " 5   PhysicalHealth    319795 non-null  float64\n",
      " 6   MentalHealth      319795 non-null  float64\n",
      " 7   DiffWalking       319795 non-null  object \n",
      " 8   Sex               319795 non-null  object \n",
      " 9   AgeCategory       319795 non-null  object \n",
      " 10  Race              319795 non-null  object \n",
      " 11  Diabetic          319795 non-null  object \n",
      " 12  PhysicalActivity  319795 non-null  object \n",
      " 13  GenHealth         319795 non-null  object \n",
      " 14  SleepTime         319795 non-null  float64\n",
      " 15  Asthma            319795 non-null  object \n",
      " 16  KidneyDisease     319795 non-null  object \n",
      " 17  SkinCancer        319795 non-null  object \n",
      "dtypes: float64(4), object(14)\n",
      "memory usage: 232.9 MB\n"
     ]
    }
   ],
   "source": [
    "import pandas as pd\n",
    "import numpy as np\n",
    "\n",
    "hc = pd.read_csv(\"heart_2020_cleaned.csv\")\n",
    "hc.info(memory_usage=\"deep\")"
   ]
  },
  {
   "cell_type": "code",
   "execution_count": 3,
   "id": "59488751-9916-4a16-92d3-d6401945c52e",
   "metadata": {},
   "outputs": [
    {
     "name": "stdout",
     "output_type": "stream",
     "text": [
      "Асиметрія SleepTime (pandas): 0.6790346208011541\n"
     ]
    }
   ],
   "source": [
    "skewness_pandas = hc['SleepTime'].skew()\n",
    "print(\"Асиметрія SleepTime (pandas):\", skewness_pandas)"
   ]
  },
  {
   "cell_type": "code",
   "execution_count": 4,
   "id": "230c4018-2ecf-4ff3-aac8-1c085c8a0ab4",
   "metadata": {},
   "outputs": [
    {
     "name": "stdout",
     "output_type": "stream",
     "text": [
      "Асиметрія SleepTime (власна функція): 0.6790314357818189\n"
     ]
    }
   ],
   "source": [
    "def sample_skewness(x):\n",
    "    n = len(x)\n",
    "    mean = np.mean(x)\n",
    "    std = np.std(x, ddof=0)\n",
    "    return np.sum(((x - mean) / std) ** 3) / n\n",
    "\n",
    "skewness_custom = sample_skewness(hc[\"SleepTime\"])\n",
    "print(\"Асиметрія SleepTime (власна функція):\", skewness_custom)"
   ]
  },
  {
   "cell_type": "code",
   "execution_count": null,
   "id": "661b1326-23f0-4d65-bf27-4f3a7518fac4",
   "metadata": {},
   "outputs": [],
   "source": []
  }
 ],
 "metadata": {
  "kernelspec": {
   "display_name": "Python 3 (ipykernel)",
   "language": "python",
   "name": "python3"
  },
  "language_info": {
   "codemirror_mode": {
    "name": "ipython",
    "version": 3
   },
   "file_extension": ".py",
   "mimetype": "text/x-python",
   "name": "python",
   "nbconvert_exporter": "python",
   "pygments_lexer": "ipython3",
   "version": "3.13.7"
  }
 },
 "nbformat": 4,
 "nbformat_minor": 5
}
